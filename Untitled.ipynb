{
 "cells": [
  {
   "cell_type": "code",
   "execution_count": 1,
   "id": "c89f8906-0fec-45ba-ab84-f2152f0c7a65",
   "metadata": {},
   "outputs": [
    {
     "data": {
      "text/html": [
       "<div>\n",
       "<style scoped>\n",
       "    .dataframe tbody tr th:only-of-type {\n",
       "        vertical-align: middle;\n",
       "    }\n",
       "\n",
       "    .dataframe tbody tr th {\n",
       "        vertical-align: top;\n",
       "    }\n",
       "\n",
       "    .dataframe thead th {\n",
       "        text-align: right;\n",
       "    }\n",
       "</style>\n",
       "<table border=\"1\" class=\"dataframe\">\n",
       "  <thead>\n",
       "    <tr style=\"text-align: right;\">\n",
       "      <th></th>\n",
       "      <th>SampleID</th>\n",
       "      <th>Group</th>\n",
       "      <th>Cancer Stage</th>\n",
       "      <th>Treatment Status</th>\n",
       "      <th>Treatment Response</th>\n",
       "      <th>Bacteroides</th>\n",
       "      <th>Fusobacteria</th>\n",
       "      <th>Proteobacteria</th>\n",
       "      <th>Alpha Diversity</th>\n",
       "      <th>Age</th>\n",
       "      <th>Gender</th>\n",
       "    </tr>\n",
       "  </thead>\n",
       "  <tbody>\n",
       "    <tr>\n",
       "      <th>0</th>\n",
       "      <td>SMP001</td>\n",
       "      <td>Cancer</td>\n",
       "      <td>III</td>\n",
       "      <td>Chemo</td>\n",
       "      <td>Sensitive</td>\n",
       "      <td>34</td>\n",
       "      <td>16</td>\n",
       "      <td>31</td>\n",
       "      <td>44</td>\n",
       "      <td>29</td>\n",
       "      <td>F</td>\n",
       "    </tr>\n",
       "    <tr>\n",
       "      <th>1</th>\n",
       "      <td>SMP002</td>\n",
       "      <td>Healthy</td>\n",
       "      <td>I</td>\n",
       "      <td>Chemo</td>\n",
       "      <td>Resistant</td>\n",
       "      <td>13</td>\n",
       "      <td>8</td>\n",
       "      <td>6</td>\n",
       "      <td>51</td>\n",
       "      <td>36</td>\n",
       "      <td>F</td>\n",
       "    </tr>\n",
       "    <tr>\n",
       "      <th>2</th>\n",
       "      <td>SMP003</td>\n",
       "      <td>Healthy</td>\n",
       "      <td>II</td>\n",
       "      <td>Chemo</td>\n",
       "      <td>Partial</td>\n",
       "      <td>25</td>\n",
       "      <td>29</td>\n",
       "      <td>39</td>\n",
       "      <td>52</td>\n",
       "      <td>40</td>\n",
       "      <td>M</td>\n",
       "    </tr>\n",
       "    <tr>\n",
       "      <th>3</th>\n",
       "      <td>SMP004</td>\n",
       "      <td>Cancer</td>\n",
       "      <td>IV</td>\n",
       "      <td>Immunotherapy</td>\n",
       "      <td>Sensitive</td>\n",
       "      <td>24</td>\n",
       "      <td>28</td>\n",
       "      <td>21</td>\n",
       "      <td>26</td>\n",
       "      <td>50</td>\n",
       "      <td>F</td>\n",
       "    </tr>\n",
       "    <tr>\n",
       "      <th>4</th>\n",
       "      <td>SMP005</td>\n",
       "      <td>Cancer</td>\n",
       "      <td>II</td>\n",
       "      <td>Immunotherapy</td>\n",
       "      <td>Resistant</td>\n",
       "      <td>51</td>\n",
       "      <td>17</td>\n",
       "      <td>14</td>\n",
       "      <td>21</td>\n",
       "      <td>50</td>\n",
       "      <td>M</td>\n",
       "    </tr>\n",
       "  </tbody>\n",
       "</table>\n",
       "</div>"
      ],
      "text/plain": [
       "  SampleID    Group Cancer Stage Treatment Status Treatment Response  \\\n",
       "0   SMP001   Cancer          III            Chemo          Sensitive   \n",
       "1   SMP002  Healthy            I            Chemo          Resistant   \n",
       "2   SMP003  Healthy           II            Chemo            Partial   \n",
       "3   SMP004   Cancer           IV    Immunotherapy          Sensitive   \n",
       "4   SMP005   Cancer           II    Immunotherapy          Resistant   \n",
       "\n",
       "   Bacteroides  Fusobacteria  Proteobacteria  Alpha Diversity  Age Gender  \n",
       "0           34            16              31               44   29      F  \n",
       "1           13             8               6               51   36      F  \n",
       "2           25            29              39               52   40      M  \n",
       "3           24            28              21               26   50      F  \n",
       "4           51            17              14               21   50      M  "
      ]
     },
     "execution_count": 1,
     "metadata": {},
     "output_type": "execute_result"
    }
   ],
   "source": [
    "import pandas as pd\n",
    "\n",
    "df = pd.read_csv(\"gut_microbiome_cancer_dataset.csv\")\n",
    "df.head()\n"
   ]
  },
  {
   "cell_type": "code",
   "execution_count": 3,
   "id": "bfbc9814-a985-4fea-8612-739eef8681c7",
   "metadata": {},
   "outputs": [
    {
     "name": "stdout",
     "output_type": "stream",
     "text": [
      "<class 'pandas.core.frame.DataFrame'>\n",
      "RangeIndex: 50 entries, 0 to 49\n",
      "Data columns (total 11 columns):\n",
      " #   Column              Non-Null Count  Dtype \n",
      "---  ------              --------------  ----- \n",
      " 0   SampleID            50 non-null     object\n",
      " 1   Group               50 non-null     object\n",
      " 2   Cancer Stage        50 non-null     object\n",
      " 3   Treatment Status    50 non-null     object\n",
      " 4   Treatment Response  50 non-null     object\n",
      " 5   Bacteroides         50 non-null     int64 \n",
      " 6   Fusobacteria        50 non-null     int64 \n",
      " 7   Proteobacteria      50 non-null     int64 \n",
      " 8   Alpha Diversity     50 non-null     int64 \n",
      " 9   Age                 50 non-null     int64 \n",
      " 10  Gender              50 non-null     object\n",
      "dtypes: int64(5), object(6)\n",
      "memory usage: 4.4+ KB\n",
      "\n",
      "Missing values:\n",
      " SampleID              0\n",
      "Group                 0\n",
      "Cancer Stage          0\n",
      "Treatment Status      0\n",
      "Treatment Response    0\n",
      "Bacteroides           0\n",
      "Fusobacteria          0\n",
      "Proteobacteria        0\n",
      "Alpha Diversity       0\n",
      "Age                   0\n",
      "Gender                0\n",
      "dtype: int64\n"
     ]
    }
   ],
   "source": [
    "# Basic info about dataset\n",
    "df.info()\n",
    "\n",
    "# Check for missing values\n",
    "print(\"\\nMissing values:\\n\", df.isnull().sum())\n",
    "\n"
   ]
  },
  {
   "cell_type": "code",
   "execution_count": 4,
   "id": "ab141e09-7609-4fb4-9deb-b2dd3334965f",
   "metadata": {},
   "outputs": [],
   "source": [
    "from sklearn.preprocessing import LabelEncoder\n",
    "\n",
    "le = LabelEncoder()\n",
    "\n",
    "df['Treatment Response'] = le.fit_transform(df['Treatment Response'])\n",
    "df['Cancer Stage'] = le.fit_transform(df['Cancer Stage'])\n",
    "df['Treatment Status'] = le.fit_transform(df['Treatment Status'])\n",
    "df['Gender'] = le.fit_transform(df['Gender'])\n"
   ]
  },
  {
   "cell_type": "code",
   "execution_count": 5,
   "id": "658f5c24-793c-4171-bc37-d946c13a8e4d",
   "metadata": {},
   "outputs": [],
   "source": [
    "X = df.drop(['SampleID', 'Group', 'Treatment Response'], axis=1)\n",
    "y = df['Treatment Response']\n"
   ]
  },
  {
   "cell_type": "code",
   "execution_count": 6,
   "id": "b23e9151-c0ac-4188-bb72-108600b406fc",
   "metadata": {},
   "outputs": [],
   "source": [
    "from sklearn.preprocessing import StandardScaler\n",
    "\n",
    "scaler = StandardScaler()\n",
    "X_scaled = scaler.fit_transform(X)\n"
   ]
  },
  {
   "cell_type": "code",
   "execution_count": 7,
   "id": "068fdd76-a349-4bc4-b2f6-2c9dc70f6d10",
   "metadata": {},
   "outputs": [
    {
     "name": "stdout",
     "output_type": "stream",
     "text": [
      "Classification Report:\n",
      "               precision    recall  f1-score   support\n",
      "\n",
      "           0       1.00      0.25      0.40         4\n",
      "           1       0.00      0.00      0.00         0\n",
      "           2       0.60      0.50      0.55         6\n",
      "\n",
      "    accuracy                           0.40        10\n",
      "   macro avg       0.53      0.25      0.32        10\n",
      "weighted avg       0.76      0.40      0.49        10\n",
      "\n",
      "Confusion Matrix:\n",
      " [[1 1 2]\n",
      " [0 0 0]\n",
      " [0 3 3]]\n"
     ]
    },
    {
     "name": "stderr",
     "output_type": "stream",
     "text": [
      "C:\\ProgramData\\anaconda3\\Lib\\site-packages\\sklearn\\metrics\\_classification.py:1531: UndefinedMetricWarning: Recall is ill-defined and being set to 0.0 in labels with no true samples. Use `zero_division` parameter to control this behavior.\n",
      "  _warn_prf(average, modifier, f\"{metric.capitalize()} is\", len(result))\n",
      "C:\\ProgramData\\anaconda3\\Lib\\site-packages\\sklearn\\metrics\\_classification.py:1531: UndefinedMetricWarning: Recall is ill-defined and being set to 0.0 in labels with no true samples. Use `zero_division` parameter to control this behavior.\n",
      "  _warn_prf(average, modifier, f\"{metric.capitalize()} is\", len(result))\n",
      "C:\\ProgramData\\anaconda3\\Lib\\site-packages\\sklearn\\metrics\\_classification.py:1531: UndefinedMetricWarning: Recall is ill-defined and being set to 0.0 in labels with no true samples. Use `zero_division` parameter to control this behavior.\n",
      "  _warn_prf(average, modifier, f\"{metric.capitalize()} is\", len(result))\n"
     ]
    }
   ],
   "source": [
    "from sklearn.model_selection import train_test_split\n",
    "from sklearn.ensemble import RandomForestClassifier\n",
    "from sklearn.metrics import classification_report, confusion_matrix\n",
    "\n",
    "X_train, X_test, y_train, y_test = train_test_split(X_scaled, y, test_size=0.2, random_state=42)\n",
    "\n",
    "model = RandomForestClassifier()\n",
    "model.fit(X_train, y_train)\n",
    "y_pred = model.predict(X_test)\n",
    "\n",
    "print(\"Classification Report:\\n\", classification_report(y_test, y_pred))\n",
    "print(\"Confusion Matrix:\\n\", confusion_matrix(y_test, y_pred))\n"
   ]
  },
  {
   "cell_type": "code",
   "execution_count": null,
   "id": "c25acb2a-f55b-44ef-aa22-fb9e0c1819c8",
   "metadata": {},
   "outputs": [],
   "source": []
  }
 ],
 "metadata": {
  "kernelspec": {
   "display_name": "Python 3 (ipykernel)",
   "language": "python",
   "name": "python3"
  },
  "language_info": {
   "codemirror_mode": {
    "name": "ipython",
    "version": 3
   },
   "file_extension": ".py",
   "mimetype": "text/x-python",
   "name": "python",
   "nbconvert_exporter": "python",
   "pygments_lexer": "ipython3",
   "version": "3.12.7"
  }
 },
 "nbformat": 4,
 "nbformat_minor": 5
}
